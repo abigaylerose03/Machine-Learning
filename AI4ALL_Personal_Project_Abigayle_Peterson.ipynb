{
  "nbformat": 4,
  "nbformat_minor": 0,
  "metadata": {
    "colab": {
      "name": "AI4ALL_Personal_Project_Abigayle_Peterson.ipynb",
      "provenance": [],
      "collapsed_sections": [],
      "toc_visible": true,
      "include_colab_link": true
    },
    "kernelspec": {
      "name": "python3",
      "display_name": "Python 3"
    }
  },
  "cells": [
    {
      "cell_type": "markdown",
      "metadata": {
        "id": "view-in-github",
        "colab_type": "text"
      },
      "source": [
        "<a href=\"https://colab.research.google.com/github/abigaylerose03/Machine-Learning/blob/master/AI4ALL_Personal_Project_Abigayle_Peterson.ipynb\" target=\"_parent\"><img src=\"https://colab.research.google.com/assets/colab-badge.svg\" alt=\"Open In Colab\"/></a>"
      ]
    },
    {
      "cell_type": "markdown",
      "metadata": {
        "id": "wLEur0fKm1Bw"
      },
      "source": [
        "# **Introduction to your AI4ALL Personal Project**\n",
        "\n",
        "\n",
        "\n",
        "---\n",
        "\n",
        "\n",
        "In this project you will:\n",
        "\n",
        "\n",
        "*   Examine and select an open dataset from Kaggle\n",
        "*   Read your dataset in using Pandas and google sheets\n",
        "* Look up and change data types\n",
        "* Investigate patterns in the data\n",
        "* Create features (feature engineering)\n",
        "* Test different machine learning algorithms\n",
        "* Evaluate how well your algorithms work\n",
        "\n",
        "\n",
        "\n",
        "---\n",
        "You may need to do your own research to adapt some parts of this code to your own project/dataset. Part of learning to code is learning how to google things really well when you encounter something new! Stack overflow is a good website to look at where people post problems they're having and get help from others. \n",
        "\n",
        "\n",
        "---\n",
        "\n",
        "# **PART 1**\n",
        "\n",
        "---\n",
        "\n"
      ]
    },
    {
      "cell_type": "code",
      "metadata": {
        "id": "F4ezbSB1-Jqf"
      },
      "source": [
        "# Connecting your google drive with colab so you can access data from spreadsheets\n",
        "# You will need to run this code and enter a key to authenticate every day/session\n",
        "from google.colab import auth\n",
        "auth.authenticate_user()\n",
        "import gspread\n",
        "from oauth2client.client import GoogleCredentials\n",
        "gc = gspread.authorize(GoogleCredentials.get_application_default())"
      ],
      "execution_count": null,
      "outputs": []
    },
    {
      "cell_type": "code",
      "metadata": {
        "id": "woWdcZMz-nU7"
      },
      "source": [
        "# Import the python packages we want to use\n",
        "# Pandas helps us explore and manipulate the data\n",
        "# Matplotlib helps us to graph and plot the data\n",
        "import pandas as pd\n",
        "import matplotlib.pyplot as plt"
      ],
      "execution_count": null,
      "outputs": []
    },
    {
      "cell_type": "markdown",
      "metadata": {
        "id": "IbQNsgcrpJsT"
      },
      "source": [
        "\n",
        "\n",
        "---\n",
        "\n",
        "\n",
        "\n",
        "---\n",
        "\n",
        "\n",
        "Next, you need to call the specific google spreadsheet you want to work with. The first spreadsheet is from goodreads. Goodreads is a website where people can rate and leave reviews for books. Read more about this dataset and what type of data is in each column here: https://www.kaggle.com/jealousleopard/goodreadsbooks\n",
        "\n",
        "\n",
        "---\n",
        "\n",
        "\n",
        "This notebook will step through the goodreads dataset, but you should also see if you can apply and adapt this code to a new dataset for your personal project.\n",
        "\n",
        "\n",
        "---\n",
        "\n",
        "\n",
        "You should investigate each of the other three datasets, then select one to use.\n",
        "\n",
        "\n",
        "*   Pokemon: https://www.kaggle.com/abcsds/pokemon\n",
        "*   World Happiness Report 2019: https://www.kaggle.com/unsdsn/world-happiness\n",
        "* Olympics: https://www.kaggle.com/heesoo37/120-years-of-olympic-history-athletes-and-results\n",
        "\n",
        "\n",
        "---\n",
        "To use a different dataset, comment out (type # in front of) the goodreads line and uncomment (take away the #) the dataset you want to use. Since you are naming that dataset wb (short for \"work book\") on each line, the rest of the code will work no matter which dataset you use.\n",
        "\n",
        "\n",
        "---\n",
        "\n",
        "\n",
        "\n",
        "\n"
      ]
    },
    {
      "cell_type": "code",
      "metadata": {
        "id": "viuwnJXq-O33"
      },
      "source": [
        "# Goodreads data\n",
        "# wb = gc.open_by_url('https://docs.google.com/spreadsheets/d/1nnjEpRJ-LeCer_Yy8mB5Mob7-8JZ7Wn7bk2d2QwxCts/edit#gid=2131638054')\n",
        "\n",
        "# Pokemon data\n",
        "wb = gc.open_by_url('https://docs.google.com/spreadsheets/d/12ijtfaDvM7jIZK3yyyr_v_P858dIKhVdl7FhH_1Bm1k/edit#gid=1035266987')\n",
        "\n",
        "# World Happiness Report 2019 data\n",
        "#wb = gc.open_by_url('https://docs.google.com/spreadsheets/d/1bwIXIzmE77O1Gsmp3_H3vveAExYyZ17mkGagq-4PNtY/edit#gid=906238556')\n",
        "\n",
        "# Olympics data\n",
        "#wb = gc.open_by_url('https://docs.google.com/spreadsheets/d/1SuHeBfBeMbvPIQwHQUnvNCpOUrCLrjGAhKExaLREHYA/edit#gid=709589584')"
      ],
      "execution_count": null,
      "outputs": []
    },
    {
      "cell_type": "code",
      "metadata": {
        "id": "zVNkqnas-xru",
        "colab": {
          "base_uri": "https://localhost:8080/",
          "height": 204
        },
        "outputId": "3bddf647-a1a2-49f0-f767-cf0808b8d517"
      },
      "source": [
        "# Import your data into a Pandas data frame\n",
        "# You may have to change the name of the sheet to match the sheet you are pulling from your spreadsheet - pay attention to capitalization!\n",
        "sheet = wb.worksheet('data') #change this sheet name for a new dataset\n",
        "data = sheet.get_all_values()\n",
        "\n",
        "# Pandas stores data in a 'data frame'\n",
        "df = pd.DataFrame(data)\n",
        "\n",
        "# Set the headings\n",
        "df.columns = df.iloc[0]\n",
        "df = df.iloc[1:]\n",
        "\n",
        "# Print the first few lines of the data frame to check that everything looks good\n",
        "df.head()"
      ],
      "execution_count": null,
      "outputs": [
        {
          "output_type": "execute_result",
          "data": {
            "text/html": [
              "<div>\n",
              "<style scoped>\n",
              "    .dataframe tbody tr th:only-of-type {\n",
              "        vertical-align: middle;\n",
              "    }\n",
              "\n",
              "    .dataframe tbody tr th {\n",
              "        vertical-align: top;\n",
              "    }\n",
              "\n",
              "    .dataframe thead th {\n",
              "        text-align: right;\n",
              "    }\n",
              "</style>\n",
              "<table border=\"1\" class=\"dataframe\">\n",
              "  <thead>\n",
              "    <tr style=\"text-align: right;\">\n",
              "      <th></th>\n",
              "      <th>#</th>\n",
              "      <th>Name</th>\n",
              "      <th>Type 1</th>\n",
              "      <th>Type 2</th>\n",
              "      <th>Total</th>\n",
              "      <th>HP</th>\n",
              "      <th>Attack</th>\n",
              "      <th>Defense</th>\n",
              "      <th>Sp. Atk</th>\n",
              "      <th>Sp. Def</th>\n",
              "      <th>Speed</th>\n",
              "      <th>Generation</th>\n",
              "      <th>Legendary</th>\n",
              "    </tr>\n",
              "  </thead>\n",
              "  <tbody>\n",
              "    <tr>\n",
              "      <th>1</th>\n",
              "      <td>1</td>\n",
              "      <td>Bulbasaur</td>\n",
              "      <td>Grass</td>\n",
              "      <td>Poison</td>\n",
              "      <td>318</td>\n",
              "      <td>45</td>\n",
              "      <td>49</td>\n",
              "      <td>49</td>\n",
              "      <td>65</td>\n",
              "      <td>65</td>\n",
              "      <td>45</td>\n",
              "      <td>1</td>\n",
              "      <td>FALSE</td>\n",
              "    </tr>\n",
              "    <tr>\n",
              "      <th>2</th>\n",
              "      <td>2</td>\n",
              "      <td>Ivysaur</td>\n",
              "      <td>Grass</td>\n",
              "      <td>Poison</td>\n",
              "      <td>405</td>\n",
              "      <td>60</td>\n",
              "      <td>62</td>\n",
              "      <td>63</td>\n",
              "      <td>80</td>\n",
              "      <td>80</td>\n",
              "      <td>60</td>\n",
              "      <td>1</td>\n",
              "      <td>FALSE</td>\n",
              "    </tr>\n",
              "    <tr>\n",
              "      <th>3</th>\n",
              "      <td>3</td>\n",
              "      <td>Venusaur</td>\n",
              "      <td>Grass</td>\n",
              "      <td>Poison</td>\n",
              "      <td>525</td>\n",
              "      <td>80</td>\n",
              "      <td>82</td>\n",
              "      <td>83</td>\n",
              "      <td>100</td>\n",
              "      <td>100</td>\n",
              "      <td>80</td>\n",
              "      <td>1</td>\n",
              "      <td>FALSE</td>\n",
              "    </tr>\n",
              "    <tr>\n",
              "      <th>4</th>\n",
              "      <td>3</td>\n",
              "      <td>VenusaurMega Venusaur</td>\n",
              "      <td>Grass</td>\n",
              "      <td>Poison</td>\n",
              "      <td>625</td>\n",
              "      <td>80</td>\n",
              "      <td>100</td>\n",
              "      <td>123</td>\n",
              "      <td>122</td>\n",
              "      <td>120</td>\n",
              "      <td>80</td>\n",
              "      <td>1</td>\n",
              "      <td>FALSE</td>\n",
              "    </tr>\n",
              "    <tr>\n",
              "      <th>5</th>\n",
              "      <td>4</td>\n",
              "      <td>Charmander</td>\n",
              "      <td>Fire</td>\n",
              "      <td></td>\n",
              "      <td>309</td>\n",
              "      <td>39</td>\n",
              "      <td>52</td>\n",
              "      <td>43</td>\n",
              "      <td>60</td>\n",
              "      <td>50</td>\n",
              "      <td>65</td>\n",
              "      <td>1</td>\n",
              "      <td>FALSE</td>\n",
              "    </tr>\n",
              "  </tbody>\n",
              "</table>\n",
              "</div>"
            ],
            "text/plain": [
              "0  #                   Name Type 1  Type 2  ... Sp. Def Speed Generation Legendary\n",
              "1  1              Bulbasaur  Grass  Poison  ...      65    45          1     FALSE\n",
              "2  2                Ivysaur  Grass  Poison  ...      80    60          1     FALSE\n",
              "3  3               Venusaur  Grass  Poison  ...     100    80          1     FALSE\n",
              "4  3  VenusaurMega Venusaur  Grass  Poison  ...     120    80          1     FALSE\n",
              "5  4             Charmander   Fire          ...      50    65          1     FALSE\n",
              "\n",
              "[5 rows x 13 columns]"
            ]
          },
          "metadata": {
            "tags": []
          },
          "execution_count": 5
        }
      ]
    },
    {
      "cell_type": "code",
      "metadata": {
        "id": "XaP9n8jZ_CL_",
        "colab": {
          "base_uri": "https://localhost:8080/",
          "height": 287
        },
        "outputId": "c76efa37-b4fe-4e4f-8f21-2698fd5ba767"
      },
      "source": [
        "# Check the data types in your data frame. Are they all correct? \n",
        "# Usually pandas imports everything as an object, which means you will need to tell is which data type each column should be.\n",
        "# You should do this so you can do math with data that includes numbers, etc.\n",
        "\n",
        "df.dtypes"
      ],
      "execution_count": null,
      "outputs": [
        {
          "output_type": "execute_result",
          "data": {
            "text/plain": [
              "0\n",
              "#             object\n",
              "Name          object\n",
              "Type 1        object\n",
              "Type 2        object\n",
              "Total         object\n",
              "HP            object\n",
              "Attack        object\n",
              "Defense       object\n",
              "Sp. Atk       object\n",
              "Sp. Def       object\n",
              "Speed         object\n",
              "Generation    object\n",
              "Legendary     object\n",
              "dtype: object"
            ]
          },
          "metadata": {
            "tags": []
          },
          "execution_count": 6
        }
      ]
    },
    {
      "cell_type": "markdown",
      "metadata": {
        "id": "Xf8DEXXkRfwW"
      },
      "source": [
        "\n",
        "\n",
        "---\n",
        "\n",
        "\n",
        "\n",
        "---\n",
        "\n",
        "\n",
        "For more information about data types in pandas, and what the options for data types are, read this: https://pbpython.com/pandas_dtypes.html\n",
        "\n",
        "\n",
        "---\n",
        "\n"
      ]
    },
    {
      "cell_type": "code",
      "metadata": {
        "id": "JKf4iKjt_ndV"
      },
      "source": [
        "# creating a dictionary for the goodreads data to set each column to the data type it should be\n"
      ],
      "execution_count": null,
      "outputs": []
    },
    {
      "cell_type": "markdown",
      "metadata": {
        "id": "NYnuHgjMSysV"
      },
      "source": [
        "\n",
        "\n",
        "---\n",
        "\n",
        "\n",
        "For a challenge, you can try to convert the data type for publication date. \n",
        "\n",
        "Hint: you will have to manipulate the data before giving it a type. There are multiple ways you might convert this data. To think about what you want to do, first think about why you would use this data. Do you only need the year? Do you need all the information in the publication date column?\n",
        "\n",
        "\n",
        "---\n",
        "\n",
        "We've helped you do this for the Pokemon, Olympics, and World Happiness Report data with the code snippets below. If you're using a different dataset, you'll have to do this yourself.\n",
        "\n",
        "\n",
        "---\n",
        "\n",
        "\n",
        "\n",
        "---\n",
        "\n"
      ]
    },
    {
      "cell_type": "code",
      "metadata": {
        "id": "NxazBMus6Lco"
      },
      "source": [
        "# Pokemon data\n",
        "new_df = {\n",
        "    'Name': df['Name'].astype(str),\n",
        "    'Type1': df['Type 1'].astype(str),\n",
        "    'Type2': df['Type 2'].astype(str),\n",
        "    'Total': df['Total'].astype(int),\n",
        "    'HP': df['HP'].astype(int),\n",
        "    'Attack': df['Attack'].astype(int),\n",
        "    'Defense': df['Defense'].astype(int),\n",
        "    'SpecialAttack': df['Sp. Atk'].astype(int),\n",
        "    'SpecialDefense': df['Sp. Def'].astype(int),\n",
        "    'Speed': df['Speed'].astype(int),\n",
        "    'Generation': df['Generation'].astype(int),\n",
        "    'Legendary': df['Legendary'].astype(str) # had to convert to a string instead of a boolean\n",
        "}"
      ],
      "execution_count": null,
      "outputs": []
    },
    {
      "cell_type": "code",
      "metadata": {
        "id": "psztKxDWEIwh",
        "colab": {
          "base_uri": "https://localhost:8080/",
          "height": 221
        },
        "outputId": "f48bc598-2b52-4be7-f159-1d084bcbb694"
      },
      "source": [
        "\"\"\"\n",
        "I wrote this code to look at the data \n",
        "\"\"\"\n",
        "\n",
        "pokemon_df = pd.DataFrame(new_df)\n",
        "pokemon_df.head()\n",
        "\n",
        "# pokemon_df[\"Legendary\"].replace({True: False}, inplace=True)\n",
        "pokemon_df.head()"
      ],
      "execution_count": null,
      "outputs": [
        {
          "output_type": "execute_result",
          "data": {
            "text/html": [
              "<div>\n",
              "<style scoped>\n",
              "    .dataframe tbody tr th:only-of-type {\n",
              "        vertical-align: middle;\n",
              "    }\n",
              "\n",
              "    .dataframe tbody tr th {\n",
              "        vertical-align: top;\n",
              "    }\n",
              "\n",
              "    .dataframe thead th {\n",
              "        text-align: right;\n",
              "    }\n",
              "</style>\n",
              "<table border=\"1\" class=\"dataframe\">\n",
              "  <thead>\n",
              "    <tr style=\"text-align: right;\">\n",
              "      <th></th>\n",
              "      <th>Name</th>\n",
              "      <th>Type1</th>\n",
              "      <th>Type2</th>\n",
              "      <th>Total</th>\n",
              "      <th>HP</th>\n",
              "      <th>Attack</th>\n",
              "      <th>Defense</th>\n",
              "      <th>SpecialAttack</th>\n",
              "      <th>SpecialDefense</th>\n",
              "      <th>Speed</th>\n",
              "      <th>Generation</th>\n",
              "      <th>Legendary</th>\n",
              "    </tr>\n",
              "  </thead>\n",
              "  <tbody>\n",
              "    <tr>\n",
              "      <th>1</th>\n",
              "      <td>Bulbasaur</td>\n",
              "      <td>Grass</td>\n",
              "      <td>Poison</td>\n",
              "      <td>318</td>\n",
              "      <td>45</td>\n",
              "      <td>49</td>\n",
              "      <td>49</td>\n",
              "      <td>65</td>\n",
              "      <td>65</td>\n",
              "      <td>45</td>\n",
              "      <td>1</td>\n",
              "      <td>FALSE</td>\n",
              "    </tr>\n",
              "    <tr>\n",
              "      <th>2</th>\n",
              "      <td>Ivysaur</td>\n",
              "      <td>Grass</td>\n",
              "      <td>Poison</td>\n",
              "      <td>405</td>\n",
              "      <td>60</td>\n",
              "      <td>62</td>\n",
              "      <td>63</td>\n",
              "      <td>80</td>\n",
              "      <td>80</td>\n",
              "      <td>60</td>\n",
              "      <td>1</td>\n",
              "      <td>FALSE</td>\n",
              "    </tr>\n",
              "    <tr>\n",
              "      <th>3</th>\n",
              "      <td>Venusaur</td>\n",
              "      <td>Grass</td>\n",
              "      <td>Poison</td>\n",
              "      <td>525</td>\n",
              "      <td>80</td>\n",
              "      <td>82</td>\n",
              "      <td>83</td>\n",
              "      <td>100</td>\n",
              "      <td>100</td>\n",
              "      <td>80</td>\n",
              "      <td>1</td>\n",
              "      <td>FALSE</td>\n",
              "    </tr>\n",
              "    <tr>\n",
              "      <th>4</th>\n",
              "      <td>VenusaurMega Venusaur</td>\n",
              "      <td>Grass</td>\n",
              "      <td>Poison</td>\n",
              "      <td>625</td>\n",
              "      <td>80</td>\n",
              "      <td>100</td>\n",
              "      <td>123</td>\n",
              "      <td>122</td>\n",
              "      <td>120</td>\n",
              "      <td>80</td>\n",
              "      <td>1</td>\n",
              "      <td>FALSE</td>\n",
              "    </tr>\n",
              "    <tr>\n",
              "      <th>5</th>\n",
              "      <td>Charmander</td>\n",
              "      <td>Fire</td>\n",
              "      <td></td>\n",
              "      <td>309</td>\n",
              "      <td>39</td>\n",
              "      <td>52</td>\n",
              "      <td>43</td>\n",
              "      <td>60</td>\n",
              "      <td>50</td>\n",
              "      <td>65</td>\n",
              "      <td>1</td>\n",
              "      <td>FALSE</td>\n",
              "    </tr>\n",
              "  </tbody>\n",
              "</table>\n",
              "</div>"
            ],
            "text/plain": [
              "                    Name  Type1   Type2  ...  Speed  Generation  Legendary\n",
              "1              Bulbasaur  Grass  Poison  ...     45           1      FALSE\n",
              "2                Ivysaur  Grass  Poison  ...     60           1      FALSE\n",
              "3               Venusaur  Grass  Poison  ...     80           1      FALSE\n",
              "4  VenusaurMega Venusaur  Grass  Poison  ...     80           1      FALSE\n",
              "5             Charmander   Fire          ...     65           1      FALSE\n",
              "\n",
              "[5 rows x 12 columns]"
            ]
          },
          "metadata": {
            "tags": []
          },
          "execution_count": 9
        }
      ]
    },
    {
      "cell_type": "code",
      "metadata": {
        "id": "iFkZHf_hGEy4",
        "colab": {
          "base_uri": "https://localhost:8080/",
          "height": 251
        },
        "outputId": "ca396141-7ad1-4d83-9a3b-1da0fb87481d"
      },
      "source": [
        "# And check to make sure all our data types are correct\n",
        "pokemon_df.dtypes"
      ],
      "execution_count": null,
      "outputs": [
        {
          "output_type": "execute_result",
          "data": {
            "text/plain": [
              "Name              object\n",
              "Type1             object\n",
              "Type2             object\n",
              "Total              int64\n",
              "HP                 int64\n",
              "Attack             int64\n",
              "Defense            int64\n",
              "SpecialAttack      int64\n",
              "SpecialDefense     int64\n",
              "Speed              int64\n",
              "Generation         int64\n",
              "Legendary         object\n",
              "dtype: object"
            ]
          },
          "metadata": {
            "tags": []
          },
          "execution_count": 10
        }
      ]
    },
    {
      "cell_type": "markdown",
      "metadata": {
        "id": "j-zxktKyUPi6"
      },
      "source": [
        "\n",
        "\n",
        "---\n",
        "\n",
        "\n",
        "Next, we want to explore the data. What are some patterns we can observe? These patterns might help us decide what types of data to use in machine learning later.\n",
        "\n",
        "Use the column name inside the brackets, and try using 'describe' to understand your dataset. Some examples from the goodreads set are below. Notice how the same code - 'describe' - has different output when the data type is different.\n",
        "\n",
        "\n",
        "---\n",
        "You can read more about grouping and exploring your data here: https://realpython.com/pandas-python-explore-dataset/  \n",
        "\n",
        "and here: https://www.kaggle.com/kashnitsky/topic-1-exploratory-data-analysis-with-pandas\n",
        "\n",
        "\n",
        "---\n",
        "\n",
        "\n",
        "\n",
        "---\n",
        "\n",
        "\n"
      ]
    },
    {
      "cell_type": "code",
      "metadata": {
        "id": "QHUT81zWGMSF",
        "colab": {
          "base_uri": "https://localhost:8080/",
          "height": 359
        },
        "outputId": "97cce73e-eabd-4946-8eda-9a9b0dcb70ca"
      },
      "source": [
        "\"\"\"\n",
        "Analyzed type1 counts \n",
        "\"\"\"\n",
        "pokemon_df['Name'].describe()\n",
        "print(pokemon_df['Type1'].value_counts())"
      ],
      "execution_count": null,
      "outputs": [
        {
          "output_type": "stream",
          "text": [
            "Water       112\n",
            "Normal       98\n",
            "Grass        70\n",
            "Bug          69\n",
            "Psychic      57\n",
            "Fire         52\n",
            "Rock         44\n",
            "Electric     44\n",
            "Dragon       32\n",
            "Ground       32\n",
            "Ghost        32\n",
            "Dark         31\n",
            "Poison       28\n",
            "Steel        27\n",
            "Fighting     27\n",
            "Ice          24\n",
            "Fairy        17\n",
            "Flying        4\n",
            "Name: Type1, dtype: int64\n"
          ],
          "name": "stdout"
        }
      ]
    },
    {
      "cell_type": "code",
      "metadata": {
        "id": "KUvU6Df4R2Zd",
        "colab": {
          "base_uri": "https://localhost:8080/",
          "height": 359
        },
        "outputId": "58e041e8-0a46-4028-ea5d-e45ad214859b"
      },
      "source": [
        "pokemon_df['Type1'].value_counts()"
      ],
      "execution_count": null,
      "outputs": [
        {
          "output_type": "execute_result",
          "data": {
            "text/plain": [
              "Water       112\n",
              "Normal       98\n",
              "Grass        70\n",
              "Bug          69\n",
              "Psychic      57\n",
              "Fire         52\n",
              "Rock         44\n",
              "Electric     44\n",
              "Dragon       32\n",
              "Ground       32\n",
              "Ghost        32\n",
              "Dark         31\n",
              "Poison       28\n",
              "Steel        27\n",
              "Fighting     27\n",
              "Ice          24\n",
              "Fairy        17\n",
              "Flying        4\n",
              "Name: Type1, dtype: int64"
            ]
          },
          "metadata": {
            "tags": []
          },
          "execution_count": 12
        }
      ]
    },
    {
      "cell_type": "code",
      "metadata": {
        "id": "h5R1qtaiGaqc",
        "colab": {
          "base_uri": "https://localhost:8080/",
          "height": 107
        },
        "outputId": "5ab618a4-c473-4bce-c04a-12dacaa3a7cf"
      },
      "source": [
        "pokemon_df['Type1'].describe()"
      ],
      "execution_count": null,
      "outputs": [
        {
          "output_type": "execute_result",
          "data": {
            "text/plain": [
              "count       800\n",
              "unique       18\n",
              "top       Water\n",
              "freq        112\n",
              "Name: Type1, dtype: object"
            ]
          },
          "metadata": {
            "tags": []
          },
          "execution_count": 13
        }
      ]
    },
    {
      "cell_type": "code",
      "metadata": {
        "id": "KKVS3TjcGh50",
        "colab": {
          "base_uri": "https://localhost:8080/",
          "height": 179
        },
        "outputId": "4c5da980-ba1d-402e-ddca-fc3ab890a266"
      },
      "source": [
        "pokemon_df['Attack'].describe()"
      ],
      "execution_count": null,
      "outputs": [
        {
          "output_type": "execute_result",
          "data": {
            "text/plain": [
              "count    800.000000\n",
              "mean      79.001250\n",
              "std       32.457366\n",
              "min        5.000000\n",
              "25%       55.000000\n",
              "50%       75.000000\n",
              "75%      100.000000\n",
              "max      190.000000\n",
              "Name: Attack, dtype: float64"
            ]
          },
          "metadata": {
            "tags": []
          },
          "execution_count": 14
        }
      ]
    },
    {
      "cell_type": "code",
      "metadata": {
        "id": "92w423c4H6BA",
        "colab": {
          "base_uri": "https://localhost:8080/",
          "height": 179
        },
        "outputId": "59e2b375-41f4-47c1-ecf6-b912c6cb637d"
      },
      "source": [
        "pokemon_df['Total'].describe()"
      ],
      "execution_count": null,
      "outputs": [
        {
          "output_type": "execute_result",
          "data": {
            "text/plain": [
              "count    800.00000\n",
              "mean     435.10250\n",
              "std      119.96304\n",
              "min      180.00000\n",
              "25%      330.00000\n",
              "50%      450.00000\n",
              "75%      515.00000\n",
              "max      780.00000\n",
              "Name: Total, dtype: float64"
            ]
          },
          "metadata": {
            "tags": []
          },
          "execution_count": 15
        }
      ]
    },
    {
      "cell_type": "markdown",
      "metadata": {
        "id": "GfYQYRN2W1Pi"
      },
      "source": [
        "\n",
        "\n",
        "---\n",
        "\n",
        "\n",
        "You can also use matplotlib to make some graphs. Read more about how to do that \n",
        "\n",
        "here: https://ourcodingclub.github.io/tutorials/pandas-python-intro/#matplotlib \n",
        "\n",
        "and here: https://queirozf.com/entries/pandas-dataframe-plot-examples-with-matplotlib-pyplot\n",
        "\n",
        "\n",
        "---\n",
        "\n",
        "\n",
        "\n",
        "---\n",
        "\n"
      ]
    },
    {
      "cell_type": "code",
      "metadata": {
        "id": "gQ2z0tZyGn_t",
        "colab": {
          "base_uri": "https://localhost:8080/",
          "height": 542
        },
        "outputId": "cd36aaba-a0b1-402a-ac50-5e38fb1bd4ad"
      },
      "source": [
        "\"\"\"\n",
        "I wrote this code to determine if a Pokemon was legendary or not\n",
        "\"\"\"\n",
        "plt.figure(figsize=(10,8))\n",
        "plt.hist(pokemon_df['Legendary'], bins=20, range=(0, 3))\n",
        "plt.title('\\nHistogram of Pokemon who are Legendary', fontsize=18)\n",
        "plt.ylabel('Number of Pokemon', fontsize=14)\n",
        "plt.xlabel('Legendary Pokemon', fontsize=14)\n",
        "plt.show()\n",
        "\n"
      ],
      "execution_count": null,
      "outputs": [
        {
          "output_type": "display_data",
          "data": {
            "image/png": "[encoded data removed]",
            "text/plain": [
              "<Figure size 720x576 with 1 Axes>"
            ]
          },
          "metadata": {
            "tags": [],
            "needs_background": "light"
          }
        }
      ]
    },
    {
      "cell_type": "markdown",
      "metadata": {
        "id": "Hy-IdiWRXlfL"
      },
      "source": [
        "\n",
        "\n",
        "---\n",
        "\n",
        "\n",
        "Using groupby can be very powerful. The example below shows the average rating based on the language the book was published in. How can you use this in your dataset?\n",
        "\n",
        "Read more about everything you can do using groupby here: https://www.bitdegree.org/learn/pandas-groupby\n",
        "\n",
        "and here: https://www.bitdegree.org/learn/pandas-groupby\n",
        "\n",
        "and here: https://www.shanelynn.ie/summarising-aggregation-and-grouping-data-in-python-pandas/\n",
        "\n",
        "\n",
        "---\n",
        "\n",
        "\n",
        "\n",
        "---\n",
        "\n"
      ]
    },
    {
      "cell_type": "markdown",
      "metadata": {
        "id": "oxFjtUXhV0l_"
      },
      "source": [
        "\n",
        "\n",
        "---\n",
        "\n",
        "# **PART 2**\n",
        "\n",
        "---\n",
        "\n",
        "\n",
        "Next, we'll do some feature engineering. Feature engineering is just a fancy way of saying that you're editing existing columns or creating some new columns based on the existing data. Sometimes you'll use mathematical functions to create your new columns, and sometimes you'll combine data in other ways.\n",
        "\n",
        "\n",
        "\n",
        "---\n",
        "\n",
        "\n",
        "You won't be done with feature engineering at this point. This is just a start, since you may want to change your features after you start using this data in machine learning models.\n",
        "\n",
        "\n",
        "---\n",
        "\n",
        "\n",
        "\n",
        "---\n",
        "\n",
        "\n",
        "\n",
        "For more information about feature engineering using pandas read here: \n",
        "\n",
        "https://heartbeat.fritz.ai/a-practical-guide-to-feature-engineering-in-python-8326e40747c8\n",
        "\n",
        "https://medium.com/@michaelabehsera/feature-engineering-cookbook-for-machine-learning-7bf21f0bcbae\n",
        "\n",
        "http://blog.yhat.com/tutorials/5-Feature-Engineering.html\n",
        "\n",
        "---\n",
        "On the goodreads data, we'll start with:\n",
        "* Merging similar categories together\n",
        "* Creating dummy variables\n",
        "* Creating bins/buckets\n",
        "\n",
        "\n",
        "---\n",
        "\n"
      ]
    },
    {
      "cell_type": "markdown",
      "metadata": {
        "id": "G11QQ29T0Ytv"
      },
      "source": [
        "I noticed there were 4 different options for \"english\" when exploring the language column for this dataset. \n",
        "\n",
        "* eng\n",
        "* en-CA\n",
        "* en-GB\n",
        "* en-US\n",
        "\n",
        "Since I don't think it matters which type of English the book uses, I'm going to combine them all into the same category of 'eng'."
      ]
    },
    {
      "cell_type": "markdown",
      "metadata": {
        "id": "samUZ1OND5tZ"
      },
      "source": [
        "\n",
        "\n",
        "---\n",
        "\n",
        "\n",
        "Next, I want to turn each of the language variables into a dummy variable. This means each language will get it's own comment, and we will use 1s and 0s to document whether or not that row is (1) or is not (0) that language.\n",
        "\n",
        "\n",
        "---\n",
        "\n",
        "\n",
        "\n",
        "Read more about how to convert categorical data to numeric form here: \n",
        "\n",
        "https://towardsdatascience.com/the-dummys-guide-to-creating-dummy-variables-f21faddb1d40\n",
        "\n",
        "https://www.analyticsvidhya.com/blog/2015/11/easy-methods-deal-categorical-variables-predictive-modeling/\n",
        "\n",
        "\n",
        "---\n",
        "\n",
        "\n",
        "\n",
        "---\n",
        "\n"
      ]
    },
    {
      "cell_type": "markdown",
      "metadata": {
        "id": "VoEERvW9V2XP"
      },
      "source": [
        "# Cleaning the data\n"
      ]
    },
    {
      "cell_type": "code",
      "metadata": {
        "id": "OpBU52enCuSr",
        "colab": {
          "base_uri": "https://localhost:8080/",
          "height": 377
        },
        "outputId": "a9f96f1c-fa4c-4bf7-df03-afe0d5b16ee3"
      },
      "source": [
        "\"\"\" \n",
        "This code turns the Legendary column of the Pokemon dataset into 0's and 1's \n",
        "to enable effective Decision Tree classification\n",
        "if TRUE, replace that with 1\n",
        "if FALSE, replace that with 0\n",
        "\n",
        "\"\"\"\n",
        "\n",
        "for i in pokemon_df['Legendary']:\n",
        "  if i == \"TRUE\":\n",
        "    pokemon_df.replace(\"TRUE\", value=1, inplace=True)\n",
        "  else:\n",
        "    pokemon_df.replace(\"FALSE\", value=0, inplace=True)\n",
        "\n",
        "print(pokemon_df[\"Legendary\"])\n",
        "print(pokemon_df.head())\n",
        "\n",
        "\n"
      ],
      "execution_count": null,
      "outputs": [
        {
          "output_type": "stream",
          "text": [
            "1      0\n",
            "2      0\n",
            "3      0\n",
            "4      0\n",
            "5      0\n",
            "      ..\n",
            "796    1\n",
            "797    1\n",
            "798    1\n",
            "799    1\n",
            "800    1\n",
            "Name: Legendary, Length: 800, dtype: int64\n",
            "                    Name  Type1   Type2  ...  Speed  Generation  Legendary\n",
            "1              Bulbasaur  Grass  Poison  ...     45           1          0\n",
            "2                Ivysaur  Grass  Poison  ...     60           1          0\n",
            "3               Venusaur  Grass  Poison  ...     80           1          0\n",
            "4  VenusaurMega Venusaur  Grass  Poison  ...     80           1          0\n",
            "5             Charmander   Fire          ...     65           1          0\n",
            "\n",
            "[5 rows x 12 columns]\n"
          ],
          "name": "stdout"
        }
      ]
    },
    {
      "cell_type": "code",
      "metadata": {
        "id": "C42Pim9iGxvf"
      },
      "source": [
        ""
      ],
      "execution_count": null,
      "outputs": []
    },
    {
      "cell_type": "code",
      "metadata": {
        "id": "SfG5PKQ9QUNB"
      },
      "source": [
        ""
      ],
      "execution_count": null,
      "outputs": []
    },
    {
      "cell_type": "markdown",
      "metadata": {
        "id": "3TrbkyYdIXIZ"
      },
      "source": [
        "One more feature we'll add now is binning. There is a wide range of page numbers and average ratings. We'll create some bins/buckets that tell us if they are in the top, middle, or bottom third of page numbers or ratings.\n",
        "\n",
        "Read more about binning here:\n",
        "\n",
        "https://pbpython.com/pandas-qcut-cut.html"
      ]
    },
    {
      "cell_type": "markdown",
      "metadata": {
        "id": "hp0Dw6lARktu"
      },
      "source": [
        "\n",
        "\n",
        "---\n",
        "Now let's do something similar for page numbers. \n",
        "\n",
        "\n",
        "---\n",
        "\n",
        "\n"
      ]
    },
    {
      "cell_type": "markdown",
      "metadata": {
        "id": "Toew-PI3U3bJ"
      },
      "source": [
        "# **PART 3**\n",
        "\n",
        "\n",
        "---\n",
        "Next we'll do some clustering on our data.\n",
        "\n",
        "\n",
        "\n",
        "---\n",
        "\n",
        "\n",
        "Read more about different clustering methods here:\n",
        "\n",
        "https://scikit-learn.org/stable/modules/clustering.html\n",
        "\n",
        "\n",
        "\n",
        "---\n",
        "\n",
        "\n",
        "We will use k-means. Read more about using k-means in python here:\n",
        "\n",
        "https://heartbeat.fritz.ai/k-means-clustering-using-sklearn-and-python-4a054d67b187\n",
        "\n",
        "\n",
        "https://benalexkeen.com/k-means-clustering-in-python/\n"
      ]
    },
    {
      "cell_type": "code",
      "metadata": {
        "id": "js0O5tTITTNC"
      },
      "source": [
        "from sklearn.cluster import KMeans\n",
        "from sklearn.metrics import silhouette_score"
      ],
      "execution_count": null,
      "outputs": []
    },
    {
      "cell_type": "code",
      "metadata": {
        "id": "ssZ-INbIZvB0",
        "colab": {
          "base_uri": "https://localhost:8080/",
          "height": 179
        },
        "outputId": "7cd15c1e-813e-40b1-b945-7797bf1aeee8"
      },
      "source": [
        "# First we decide which features to use in our clustering\n",
        "\n",
        "# We'll use the Number of pages, the average rating, and whether or not the language is english (dummy variable)\n",
        "# Clustering does not work with string variables, so converting our \"language\" variable\n",
        "  # to numerics is useful here\n",
        "cluster_data = pokemon_df[['HP','Attack','Defense']]\n",
        "\n",
        "# We also have to decide how many clusters our algorithm should test for\n",
        "# You can pick numbers higher or lower than these to test\n",
        "range_n_clusters = [2,3,4,5,6,7,5,2,3]\n",
        "\n",
        "# Now we'll test the data we selected in cluster_data with the number of different clusters in range_n_clusters\n",
        "# Each cluster number will produce a silhouette score. Higher values are better.\n",
        "for n_clusters in range_n_clusters:\n",
        "  clusterer = KMeans(n_clusters=n_clusters, random_state=10)\n",
        "  cluster_labels = clusterer.fit_predict(cluster_data)\n",
        "  silhouette_avg = silhouette_score(cluster_data, cluster_labels)\n",
        "  print(\"For n_clusters = \", n_clusters,\n",
        "        \"The average silhouette score is:\", silhouette_avg)"
      ],
      "execution_count": null,
      "outputs": [
        {
          "output_type": "stream",
          "text": [
            "For n_clusters =  2 The average silhouette score is: 0.36700094185903914\n",
            "For n_clusters =  3 The average silhouette score is: 0.3458930362568938\n",
            "For n_clusters =  4 The average silhouette score is: 0.305598380480977\n",
            "For n_clusters =  5 The average silhouette score is: 0.31135949843579636\n",
            "For n_clusters =  6 The average silhouette score is: 0.26593043067808736\n",
            "For n_clusters =  7 The average silhouette score is: 0.265964305939882\n",
            "For n_clusters =  5 The average silhouette score is: 0.31135949843579636\n",
            "For n_clusters =  2 The average silhouette score is: 0.36700094185903914\n",
            "For n_clusters =  3 The average silhouette score is: 0.3458930362568938\n"
          ],
          "name": "stdout"
        }
      ]
    },
    {
      "cell_type": "markdown",
      "metadata": {
        "id": "dLovhkmSYplr"
      },
      "source": [
        "\n",
        "\n",
        "---\n",
        "\n",
        "\n",
        "Evaluating how good our clustering algorithm is can get a little complicated, since there is not a 'ground truth' we're trying to map to (like in classification where you can predict a variable that you already have in your data).\n",
        "\n",
        "\n",
        "---\n",
        "\n",
        "\n",
        "Read more about different metrics for evaluating clustering here: \n",
        "\n",
        "https://www.datanovia.com/en/lessons/cluster-validation-statistics-must-know-methods/\n",
        "\n",
        "\n",
        "---\n",
        "\n",
        "We'll use the silhouette coefficient. This will be a number between 0 and 1, with 1 being the best clustering and 0 being the worst. \n",
        "\n",
        "\n",
        "---\n",
        "\n",
        "\n"
      ]
    },
    {
      "cell_type": "code",
      "metadata": {
        "id": "XxmzspscZPC9",
        "colab": {
          "base_uri": "https://localhost:8080/",
          "height": 179
        },
        "outputId": "3521373d-431a-4c48-a935-cfa00e11ccb1"
      },
      "source": [
        "# Now let's try using some different data to see if we can improve our clusters\n",
        "\n",
        "# Let's try just using the number of text reviews and the average rating\n",
        "cluster_data = pokemon_df[['Total','HP', 'Defense']]\n",
        "\n",
        "# We also have to decide how many clusters our algorithm should test for\n",
        "# You can pick numbers higher or lower than these to test\n",
        "range_n_clusters = [2,3,2,5,6,9,5,7,8]\n",
        "\n",
        "# Now we'll test the data we selected in cluster_data with the number of different clusters in range_n_clusters\n",
        "# Each cluster number will produce a silhouette score. Higher values are better.\n",
        "for n_clusters in range_n_clusters:\n",
        "  clusterer = KMeans(n_clusters=n_clusters, random_state=10)\n",
        "  cluster_labels = clusterer.fit_predict(cluster_data)\n",
        "  silhouette_avg = silhouette_score(cluster_data, cluster_labels)\n",
        "  print(\"For n_clusters = \", n_clusters,\n",
        "        \"The average silhouette score is:\", silhouette_avg)"
      ],
      "execution_count": null,
      "outputs": [
        {
          "output_type": "stream",
          "text": [
            "For n_clusters =  2 The average silhouette score is: 0.5560615623960338\n",
            "For n_clusters =  3 The average silhouette score is: 0.5168592105631576\n",
            "For n_clusters =  2 The average silhouette score is: 0.5560615623960338\n",
            "For n_clusters =  5 The average silhouette score is: 0.4177273996811981\n",
            "For n_clusters =  6 The average silhouette score is: 0.4166656846096335\n",
            "For n_clusters =  9 The average silhouette score is: 0.3536442961029495\n",
            "For n_clusters =  5 The average silhouette score is: 0.4177273996811981\n",
            "For n_clusters =  7 The average silhouette score is: 0.39709198644337496\n",
            "For n_clusters =  8 The average silhouette score is: 0.3851754993914311\n"
          ],
          "name": "stdout"
        }
      ]
    },
    {
      "cell_type": "markdown",
      "metadata": {
        "id": "gnQV97O6czMQ"
      },
      "source": [
        "Those silhouette scores are much better. But does this type of clustering mean anything? Let's see how many values are in each of the clusters for some of these options."
      ]
    },
    {
      "cell_type": "code",
      "metadata": {
        "id": "QJ0Hf37wcqDQ",
        "colab": {
          "base_uri": "https://localhost:8080/",
          "height": 89
        },
        "outputId": "25b6cbe5-f519-453b-bdd9-f9cd2efd7264"
      },
      "source": [
        "# Let's look at just a single value for our clusters in more depth\n",
        "range_n_clusters = [2]\n",
        "\n",
        "for n_clusters in range_n_clusters:\n",
        "  clusterer = KMeans(n_clusters=n_clusters, random_state=10)\n",
        "  cluster_labels = clusterer.fit_predict(cluster_data)\n",
        "  silhouette_avg = silhouette_score(cluster_data, cluster_labels)\n",
        "  print(\"For n_clusters = \", n_clusters,\n",
        "        \"The average silhouette score is:\", silhouette_avg)\n",
        "  \n",
        "# This code helps us tell how many values are in each cluster  \n",
        "labels = cluster_labels.tolist()\n",
        "labels = pd.Series(labels,name='labels')\n",
        "values = pd.value_counts(labels)\n",
        "\n",
        "print(values)"
      ],
      "execution_count": null,
      "outputs": [
        {
          "output_type": "stream",
          "text": [
            "For n_clusters =  2 The average silhouette score is: 0.5560615623960338\n",
            "0    426\n",
            "1    374\n",
            "Name: labels, dtype: int64\n"
          ],
          "name": "stdout"
        }
      ]
    },
    {
      "cell_type": "markdown",
      "metadata": {
        "id": "ynFy5yjKhyMG"
      },
      "source": [
        "It looks like most of the data is in one of the clusters. This is probably not very useful to us. Let's check out n=10 clusters."
      ]
    },
    {
      "cell_type": "code",
      "metadata": {
        "id": "k5pEORKxf_ka",
        "colab": {
          "base_uri": "https://localhost:8080/",
          "height": 233
        },
        "outputId": "88344a51-c737-4be0-baf4-1316d1ff9862"
      },
      "source": [
        "range_n_clusters = [10]\n",
        "\n",
        "for n_clusters in range_n_clusters:\n",
        "  clusterer = KMeans(n_clusters=n_clusters, random_state=10)\n",
        "  cluster_labels = clusterer.fit_predict(cluster_data)\n",
        "  silhouette_avg = silhouette_score(cluster_data, cluster_labels)\n",
        "  print(\"For n_clusters = \", n_clusters,\n",
        "        \"The average silhouette score is:\", silhouette_avg)\n",
        "  \n",
        "# This code helps us tell how many values are in each cluster  \n",
        "labels = cluster_labels.tolist()\n",
        "labels = pd.Series(labels,name='labels')\n",
        "values = pd.value_counts(labels)\n",
        "\n",
        "print(values)"
      ],
      "execution_count": null,
      "outputs": [
        {
          "output_type": "stream",
          "text": [
            "For n_clusters =  10 The average silhouette score is: 0.3578173682692033\n",
            "5    133\n",
            "0    127\n",
            "2    115\n",
            "8     94\n",
            "1     89\n",
            "7     83\n",
            "4     63\n",
            "6     54\n",
            "3     33\n",
            "9      9\n",
            "Name: labels, dtype: int64\n"
          ],
          "name": "stdout"
        }
      ]
    },
    {
      "cell_type": "markdown",
      "metadata": {
        "id": "j4mnOB5Ejxpj"
      },
      "source": [
        "\n",
        "\n",
        "---\n",
        "\n",
        "\n",
        "It looks like most of the data is still in one cluster, even for n=10 clusters. This isn't very useful, so we'll have to go back and change the data we are using to cluster on.\n",
        "\n",
        "\n",
        "---\n",
        "\n"
      ]
    },
    {
      "cell_type": "code",
      "metadata": {
        "id": "r5-o3bIPjssR",
        "colab": {
          "base_uri": "https://localhost:8080/",
          "height": 197
        },
        "outputId": "eea4a0f6-debe-4b3d-e7a6-adefaf4bda0c"
      },
      "source": [
        "# Now let's try using some different data to see if we can improve our clusters\n",
        "cluster_data = pokemon_df[['Speed','Total','HP', 'Defense']]\n",
        "\n",
        "# We also have to decide how many clusters our algorithm should test for\n",
        "# You can pick numbers higher or lower than these to test\n",
        "range_n_clusters = [2,2,6,8,4,3,8,3,4,3]\n",
        "x \n",
        "# Now we'll test the data we selected in cluster_data with the number of different clusters in range_n_clusters\n",
        "# Each cluster number will produce a silhouette score. Higher values are better.\n",
        "for n_clusters in range_n_clusters:\n",
        "  clusterer = KMeans(n_clusters=n_clusters, random_state=10)\n",
        "  cluster_labels = clusterer.fit_predict(cluster_data)\n",
        "  silhouette_avg = silhouette_score(cluster_data, cluster_labels)\n",
        "  print(\"For n_clusters = \", n_clusters,\n",
        "        \"The average silhouette score is:\", silhouette_avg)"
      ],
      "execution_count": null,
      "outputs": [
        {
          "output_type": "stream",
          "text": [
            "For n_clusters =  2 The average silhouette score is: 0.5306598844295989\n",
            "For n_clusters =  2 The average silhouette score is: 0.5306598844295989\n",
            "For n_clusters =  6 The average silhouette score is: 0.3559189552774961\n",
            "For n_clusters =  8 The average silhouette score is: 0.3359612074536071\n",
            "For n_clusters =  4 The average silhouette score is: 0.40065819671461855\n",
            "For n_clusters =  3 The average silhouette score is: 0.48349167218878947\n",
            "For n_clusters =  8 The average silhouette score is: 0.3359612074536071\n",
            "For n_clusters =  3 The average silhouette score is: 0.48349167218878947\n",
            "For n_clusters =  4 The average silhouette score is: 0.40065819671461855\n",
            "For n_clusters =  3 The average silhouette score is: 0.48349167218878947\n"
          ],
          "name": "stdout"
        }
      ]
    },
    {
      "cell_type": "code",
      "metadata": {
        "id": "UUcFgnRclQmw",
        "colab": {
          "base_uri": "https://localhost:8080/",
          "height": 125
        },
        "outputId": "ec27f2f0-b951-4e8f-f71b-40192e418e5e"
      },
      "source": [
        "# These silhouette scores are a little lower, but let's check out the cluster sizes\n",
        "\n",
        "range_n_clusters = [4]\n",
        "\n",
        "for n_clusters in range_n_clusters:\n",
        "  clusterer = KMeans(n_clusters=n_clusters, random_state=10)\n",
        "  cluster_labels = clusterer.fit_predict(cluster_data)\n",
        "  silhouette_avg = silhouette_score(cluster_data, cluster_labels)\n",
        "  print(\"For n_clusters = \", n_clusters,\n",
        "        \"The average silhouette score is:\", silhouette_avg)\n",
        "  \n",
        "# This code helps us tell how many values are in each cluster  \n",
        "labels = cluster_labels.tolist()\n",
        "labels = pd.Series(labels,name='labels')\n",
        "values = pd.value_counts(labels)\n",
        "\n",
        "# This looks much more useful, even though the silhouette scores are lower\n",
        "print(values)"
      ],
      "execution_count": null,
      "outputs": [
        {
          "output_type": "stream",
          "text": [
            "For n_clusters =  4 The average silhouette score is: 0.40065819671461855\n",
            "2    287\n",
            "3    235\n",
            "1    161\n",
            "0    117\n",
            "Name: labels, dtype: int64\n"
          ],
          "name": "stdout"
        }
      ]
    },
    {
      "cell_type": "code",
      "metadata": {
        "id": "WlmgB0xusDZW"
      },
      "source": [
        "# Let's also do some grouping by cluster to get statistics that are cluster specific\n",
        "import numpy as np\n",
        "\n",
        "print(\"Mean\\n\",groups.aggregate(np.mean))\n",
        "\n",
        "print(\"\\n Minimum Value \\n\",groups.aggregate(np.min))\n",
        "\n",
        "print(\"\\n Maximum Value \\n\",groups.aggregate(np.max))"
      ],
      "execution_count": null,
      "outputs": []
    },
    {
      "cell_type": "markdown",
      "metadata": {
        "id": "o2g0a4JEqX0Y"
      },
      "source": [
        "\n",
        "\n",
        "---\n",
        "\n",
        "\n",
        "# **PART 4**\n",
        "\n",
        "\n",
        "\n",
        "---\n",
        "\n",
        "\n",
        "Now we'll work on some classification using our data.\n",
        "\n",
        "Let's see if we can accurately predict whether a book was ranked in the top, middle, or bottom of this data set. This means we'll use our column \"Ranking_Bin\" as the ground truth that our algorithm will try to match.\n",
        "\n",
        "\n",
        "---\n",
        "See the many options we have in the scikit-learn package for machine learning here: https://scikit-learn.org/stable/tutorial/machine_learning_map/index.html\n"
      ]
    },
    {
      "cell_type": "markdown",
      "metadata": {
        "id": "LapQ6DAbvBc3"
      },
      "source": [
        "\n",
        "\n",
        "---\n",
        "\n",
        "\n",
        "\n",
        "\n",
        "The first thing we need to do is split our data into a training set and a test set. We'll use the training set to develop our model, then use the test set to see how well our model performs on other data.\n",
        "\n",
        "Read more about splitting between training and testing sets here: \n",
        "\n",
        "https://developers.google.com/machine-learning/crash-course/training-and-test-sets/splitting-data\n",
        "\n",
        "https://medium.com/@contactsunny/how-to-split-your-dataset-to-train-and-test-datasets-using-scikit-learn-e7cf6eb5e0d\n",
        "\n",
        "\n",
        "https://www.bitdegree.org/learn/train-test-split\n",
        "\n",
        "---\n",
        "Note: If your dataset has any missing data, you'll have to decide what to do with that data. Most of these algorithms do not tolerate missing data. You may want to drop all the rows where there is missing data. See here for an example:\n",
        "\n",
        "https://www.sicara.ai/blog/2018-02-28-naive-bayes-classification-sklearn\n",
        "\n",
        "\n",
        "---\n",
        "\n",
        "\n"
      ]
    },
    {
      "cell_type": "code",
      "metadata": {
        "id": "zSOCRy3BwPDe"
      },
      "source": [
        "from scipy import stats\n",
        "from sklearn import svm\n",
        "from sklearn.metrics import accuracy_score\n",
        "from sklearn import datasets\n",
        "from sklearn.model_selection import train_test_split"
      ],
      "execution_count": null,
      "outputs": []
    },
    {
      "cell_type": "code",
      "metadata": {
        "id": "YUnDe1G-wyuD"
      },
      "source": [
        "# Now we'll define the inputs to our machine learning model from the rest of our dataframe. \n",
        "# We should NOT use either \"Avg Rating\" or \"Rating_Bin\" as inputs because this is the information we are trying to predict\n",
        "\n",
        "x = pokemon_df[['Total', 'SpecialAttack', 'SpecialDefense', 'Attack', 'HP', 'Defense']]\n",
        "\n",
        "# Define the targets - what we are trying to predict or classify\n",
        "# Here we will try to predict \"Ranking_Bin\"\n",
        "\n",
        "y = pokemon_df[['Legendary']]"
      ],
      "execution_count": null,
      "outputs": []
    },
    {
      "cell_type": "code",
      "metadata": {
        "id": "JURuQON7ooFv",
        "colab": {
          "base_uri": "https://localhost:8080/",
          "height": 521
        },
        "outputId": "fecb29cf-6c63-4a9a-b777-55cb774e0436"
      },
      "source": [
        "# We'll save 20 percent of our data for testing and use 80 percent for training\n",
        "x_train, x_test, y_train, y_test = train_test_split(x, y, test_size=0.20)\n",
        "print(x_train)\n",
        "print(x_test)"
      ],
      "execution_count": null,
      "outputs": [
        {
          "output_type": "stream",
          "text": [
            "     Total  SpecialAttack  SpecialDefense  Attack   HP  Defense\n",
            "466    330             60              30      65   55       35\n",
            "342    405             75              85      40   60       50\n",
            "180    265             40              80      20   40       30\n",
            "219    455             90              65      80   70       65\n",
            "517    535            110              50     100  100      125\n",
            "..     ...            ...             ...     ...  ...      ...\n",
            "391    460             72              87      68   99       83\n",
            "488    310             70              90      25   20       45\n",
            "585    390             50              40     105   70      105\n",
            "5      309             60              50      52   39       43\n",
            "668    485            125              95      75   75       75\n",
            "\n",
            "[640 rows x 6 columns]\n",
            "     Total  SpecialAttack  SpecialDefense  Attack  HP  Defense\n",
            "785    494             58              75      90  65      122\n",
            "748    466             83              81      48  74       76\n",
            "459    424             79             105      59  60       85\n",
            "511    494             92              85      92  90       75\n",
            "239    250             30              30      50  50       40\n",
            "..     ...            ...             ...     ...  ..      ...\n",
            "321    237             20              30      60  72       30\n",
            "183    390             60              60      90  70       70\n",
            "95     475             70              95      70  90       80\n",
            "155    615             70              95     135  80       85\n",
            "149    395             85              75      60  65       70\n",
            "\n",
            "[160 rows x 6 columns]\n"
          ],
          "name": "stdout"
        }
      ]
    },
    {
      "cell_type": "markdown",
      "metadata": {
        "id": "RcZoqBCPzLBg"
      },
      "source": [
        "\n",
        "\n",
        "---\n",
        "First we'll use Naive Bayes\n",
        "\n",
        "\n",
        "---\n",
        "\n",
        "Read more about applying Naive Bayes using scikit-learn here:\n",
        "\n",
        "https://heartbeat.fritz.ai/naive-bayes-classifier-in-python-using-scikit-learn-13c4deb83bcf\n",
        "\n",
        "https://www.sicara.ai/blog/2018-02-28-naive-bayes-classification-sklearn\n",
        "\n",
        "---\n",
        "\n",
        "\n"
      ]
    },
    {
      "cell_type": "code",
      "metadata": {
        "id": "6tRB8-udyyhX",
        "colab": {
          "base_uri": "https://localhost:8080/",
          "height": 91
        },
        "outputId": "9abbdceb-fb5c-4f89-ef81-a8481a2dbd88"
      },
      "source": [
        "from sklearn.naive_bayes import GaussianNB, BernoulliNB, MultinomialNB\n",
        "\n",
        "# This is where we set our machine learning algorithm type - Naive Bayes\n",
        "model = MultinomialNB()\n",
        "\n",
        "# Fit the model with our training data\n",
        "model.fit(x_train,y_train)\n",
        "\n",
        "# Use the model to make predictions using our testing input data\n",
        "y_pred = model.predict(x_test)\n",
        "\n",
        "# Calculate the accuracy of the model as a percent\n",
        "accuracy = accuracy_score(y_test,y_pred)*100\n",
        "print(accuracy)"
      ],
      "execution_count": null,
      "outputs": [
        {
          "output_type": "stream",
          "text": [
            "78.75\n"
          ],
          "name": "stdout"
        },
        {
          "output_type": "stream",
          "text": [
            "/usr/local/lib/python3.6/dist-packages/sklearn/utils/validation.py:760: DataConversionWarning: A column-vector y was passed when a 1d array was expected. Please change the shape of y to (n_samples, ), for example using ravel().\n",
            "  y = column_or_1d(y, warn=True)\n"
          ],
          "name": "stderr"
        }
      ]
    },
    {
      "cell_type": "markdown",
      "metadata": {
        "id": "hguGDEZjAlCh"
      },
      "source": [
        "\n",
        "\n",
        "---\n",
        "\n",
        "\n",
        "Well, that's not very accurate. To get more accurate, we should probably use \n",
        "different data. We'll leave that to you to try with your own data. Can you beat this accuracy?\n",
        "\n",
        "\n",
        "---\n",
        "For now, we'll move on to a different algorithm to see if we can do any better.\n",
        "\n",
        "\n",
        "---\n",
        "\n",
        "Next we'll try an SVM, or support vector machine. Read more about this algorithm here:\n",
        "\n",
        "https://jakevdp.github.io/PythonDataScienceHandbook/05.07-support-vector-machines.html\n",
        "\n",
        "https://www.geeksforgeeks.org/classifying-data-using-support-vector-machinessvms-in-python/\n",
        "\n",
        "\n",
        "---\n",
        "\n",
        "\n"
      ]
    },
    {
      "cell_type": "code",
      "metadata": {
        "id": "WLJeVwVG14ah"
      },
      "source": [
        "# Import necessary package\n",
        "from sklearn import svm\n",
        "\n",
        "# Set input data (x) and target for prediction (y)\n",
        "x = pokemon_df[['Attack', 'HP', 'Total']]\n",
        "y = pokemon_df[['Speed']]\n",
        "x_train, x_test, y_train, y_test = train_test_split(x, y, test_size=0.80)\n",
        "\n",
        "# This is where we set our machine learning algorithm type - SVM\n",
        "model = svm.LinearSVC(max_iter=209040)\n",
        "model.fit(x_train,y_train)\n",
        "\n",
        "# Use the model to make predictions using our testing input data\n",
        "y_pred = model.predict(x_test)\n",
        "\n",
        "# Calculate the accuracy of the model as a percent\n",
        "accuracy = accuracy_score(y_test,y_pred)*100\n",
        "accuracy"
      ],
      "execution_count": null,
      "outputs": []
    },
    {
      "cell_type": "markdown",
      "metadata": {
        "id": "3OtbbSPHFWuI"
      },
      "source": [
        "\n",
        "\n",
        "---\n",
        "Next we'll try a decision tree using the scikit-learn package again. Read more about decision trees here:\n",
        "\n",
        "https://medium.com/pursuitnotes/decision-tree-classification-in-9-steps-with-python-600c85ef56de\n",
        "\n",
        "https://benalexkeen.com/decision-tree-classifier-in-python-using-scikit-learn/\n",
        "\n",
        "---\n"
      ]
    },
    {
      "cell_type": "markdown",
      "metadata": {
        "id": "Ot_85OJKVKWX"
      },
      "source": [
        "# Objectives 1, 2, and 3"
      ]
    },
    {
      "cell_type": "code",
      "metadata": {
        "id": "JuODQnhWAj2I",
        "colab": {
          "base_uri": "https://localhost:8080/",
          "height": 266
        },
        "outputId": "fffa09fd-0810-47bb-b006-855f62c7f399"
      },
      "source": [
        "# Import necessary package\n",
        "\"\"\"\n",
        "This is the code that I wrote for predicting if a new, \n",
        "unknown Pokemon would be considered Legendary or not\n",
        "\"\"\"\n",
        "from sklearn.tree import DecisionTreeClassifier\n",
        "import numpy as np\n",
        "\n",
        "\"\"\"\n",
        " Set input data (x) and target for prediction (y)\n",
        "\"\"\"\n",
        "x = pokemon_df[['Attack', 'HP', 'SpecialAttack', 'SpecialDefense', 'Defense', 'Speed']]\n",
        "y = pokemon_df[['Legendary']]\n",
        "x_train, x_test, y_train, y_test = train_test_split(x, y, test_size=0.20)\n",
        "\n",
        "# This is where we set our machine learning algorithm type - Decision Tree\n",
        "model = DecisionTreeClassifier(criterion='entropy',random_state=0) \n",
        "model.fit(x_train,y_train)\n",
        "\n",
        "# Use the model to make predictions using our testing input data\n",
        "y_pred = model.predict(x_test)\n",
        "\n",
        "\n",
        "# Calculate the accuracy of the model as a percent\n",
        "accuracy = accuracy_score(y_test,y_pred)*100\n",
        "accuracy\n",
        "\n",
        "\"\"\"\n",
        " The variable new_pokemon represents the unknown pokemon with random stats\n",
        " 0 means not legendary, 1 means legendary\n",
        "\"\"\"\n",
        "new_pokemon = np.array([100, 200, 10, 90, 90, 100]).reshape(1,-1)\n",
        "print(model.predict(new_pokemon))\n",
        "\n",
        "if model.predict(new_pokemon) == [1]:\n",
        "  print(\"This new pokemon is probably legendary!\")\n",
        "else:\n",
        "  print(\"This new Pokenon is not probably legendary!\")\n"
      ],
      "execution_count": 1,
      "outputs": [
        {
          "output_type": "error",
          "ename": "NameError",
          "evalue": "ignored",
          "traceback": [
            "\u001b[0;31m---------------------------------------------------------------------------\u001b[0m",
            "\u001b[0;31mNameError\u001b[0m                                 Traceback (most recent call last)",
            "\u001b[0;32m<ipython-input-1-1fda3d10fef9>\u001b[0m in \u001b[0;36m<module>\u001b[0;34m()\u001b[0m\n\u001b[1;32m     10\u001b[0m  \u001b[0mSet\u001b[0m \u001b[0minput\u001b[0m \u001b[0mdata\u001b[0m \u001b[0;34m(\u001b[0m\u001b[0mx\u001b[0m\u001b[0;34m)\u001b[0m \u001b[0;32mand\u001b[0m \u001b[0mtarget\u001b[0m \u001b[0;32mfor\u001b[0m \u001b[0mprediction\u001b[0m \u001b[0;34m(\u001b[0m\u001b[0my\u001b[0m\u001b[0;34m)\u001b[0m\u001b[0;34m\u001b[0m\u001b[0;34m\u001b[0m\u001b[0m\n\u001b[1;32m     11\u001b[0m \"\"\"\n\u001b[0;32m---> 12\u001b[0;31m \u001b[0mx\u001b[0m \u001b[0;34m=\u001b[0m \u001b[0mpokemon_df\u001b[0m\u001b[0;34m[\u001b[0m\u001b[0;34m[\u001b[0m\u001b[0;34m'Attack'\u001b[0m\u001b[0;34m,\u001b[0m \u001b[0;34m'HP'\u001b[0m\u001b[0;34m,\u001b[0m \u001b[0;34m'SpecialAttack'\u001b[0m\u001b[0;34m,\u001b[0m \u001b[0;34m'SpecialDefense'\u001b[0m\u001b[0;34m,\u001b[0m \u001b[0;34m'Defense'\u001b[0m\u001b[0;34m,\u001b[0m \u001b[0;34m'Speed'\u001b[0m\u001b[0;34m]\u001b[0m\u001b[0;34m]\u001b[0m\u001b[0;34m\u001b[0m\u001b[0;34m\u001b[0m\u001b[0m\n\u001b[0m\u001b[1;32m     13\u001b[0m \u001b[0my\u001b[0m \u001b[0;34m=\u001b[0m \u001b[0mpokemon_df\u001b[0m\u001b[0;34m[\u001b[0m\u001b[0;34m[\u001b[0m\u001b[0;34m'Legendary'\u001b[0m\u001b[0;34m]\u001b[0m\u001b[0;34m]\u001b[0m\u001b[0;34m\u001b[0m\u001b[0;34m\u001b[0m\u001b[0m\n\u001b[1;32m     14\u001b[0m \u001b[0mx_train\u001b[0m\u001b[0;34m,\u001b[0m \u001b[0mx_test\u001b[0m\u001b[0;34m,\u001b[0m \u001b[0my_train\u001b[0m\u001b[0;34m,\u001b[0m \u001b[0my_test\u001b[0m \u001b[0;34m=\u001b[0m \u001b[0mtrain_test_split\u001b[0m\u001b[0;34m(\u001b[0m\u001b[0mx\u001b[0m\u001b[0;34m,\u001b[0m \u001b[0my\u001b[0m\u001b[0;34m,\u001b[0m \u001b[0mtest_size\u001b[0m\u001b[0;34m=\u001b[0m\u001b[0;36m0.20\u001b[0m\u001b[0;34m)\u001b[0m\u001b[0;34m\u001b[0m\u001b[0;34m\u001b[0m\u001b[0m\n",
            "\u001b[0;31mNameError\u001b[0m: name 'pokemon_df' is not defined"
          ]
        }
      ]
    },
    {
      "cell_type": "markdown",
      "metadata": {
        "id": "4N7CzmpDLZQj"
      },
      "source": [
        "\n",
        "\n",
        "---\n",
        "Next we'll try using a neural network, again in scikit-learn. There are also other packages for building neural networks, like neurolab.\n",
        "\n",
        "---\n",
        " Read more about neural networks here:\n",
        "\n",
        " https://www.pluralsight.com/guides/machine-learning-neural-networks-scikit-learn\n",
        "\n",
        " https://prateekvjoshi.com/2016/01/12/how-to-train-a-neural-network-in-python-part-i/\n",
        "\n",
        " ---\n"
      ]
    },
    {
      "cell_type": "code",
      "metadata": {
        "id": "M7xJNrTVLLC3"
      },
      "source": [
        "# Import necessary package\n",
        "from sklearn.neural_network import MLPClassifier\n",
        "from sklearn.linear_model import LogisticRegression\n",
        "from sklearn.linear_model import LinearRegression\n",
        "\n",
        "# Set input data (x) and target for prediction (y)\n",
        "x = pokemon_df[['Defense', 'Attack', 'HP', 'SpecialAttack']]\n",
        "y = pokemon_df[['Speed']]\n",
        "x_train, x_test, y_train, y_test = train_test_split(x, y, test_size=0.20)\n",
        "\n",
        "# This is where we set our machine learning algorithm type - Neural Network\n",
        "# model = MLPClassifier(hidden_layer_sizes=(8,8,8), activation='relu', solver='adam', max_iter=500)\n",
        "logreg = LogisticRegression(max_iter=10000)\n",
        "logreg.fit(x_train,y_train)\n",
        "\n",
        "# Use the model to make predictions using our testing input data\n",
        "y_pred = logreg.predict(x_test)\n",
        "\n",
        "# Calculate the accuracy of the model as a percent\n",
        "accuracy = accuracy_score(y_test,y_pred)*100\n",
        "accuracy"
      ],
      "execution_count": null,
      "outputs": []
    },
    {
      "cell_type": "markdown",
      "metadata": {
        "id": "d_YdkJbnMKed"
      },
      "source": [
        "---\n",
        "\n",
        "If you've tried to refine the data you're using as inputs and want to improve your algorithm even more, you can read more about tuning here:\n",
        "\n",
        "https://www.kdnuggets.com/2019/01/fine-tune-machine-learning-models-forecasting.html\n",
        "\n",
        "---"
      ]
    }
  ]
}